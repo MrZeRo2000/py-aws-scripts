{
 "cells": [
  {
   "cell_type": "code",
   "id": "660a4ba01180e3f4",
   "metadata": {
    "ExecuteTime": {
     "end_time": "2024-08-28T06:21:37.434083Z",
     "start_time": "2024-08-28T06:20:46.181720Z"
    }
   },
   "source": [
    "%additional_python_modules awswrangler\n",
    "\n",
    "import boto3\n",
    "import datetime\n",
    "import awswrangler as wr\n",
    "from pyspark.sql import DataFrame\n",
    "from pyspark.sql.session import SparkSession\n",
    "from pyspark.context import SparkContext\n",
    "from pyspark.sql.utils import AnalysisException\n",
    "from awsglue.utils import getResolvedOptions\n",
    "from awsglue.context import GlueContext\n",
    "from awsglue import DynamicFrame\n",
    "\n",
    "session = boto3.session.Session(region_name='eu-west-1')\n",
    "s3 = session.client('s3')\n",
    "glue = session.client('glue')\n",
    "spark = SparkSession.builder.config('spark.serializer','org.apache.spark.serializer.KryoSerializer').config('spark.sql.hive.convertMetastoreParquet','false').getOrCreate()\n",
    "sc = spark.sparkContext\n",
    "glueContext = GlueContext(SparkContext.getOrCreate())\n"
   ],
   "outputs": [
    {
     "name": "stdout",
     "output_type": "stream",
     "text": [
      "Welcome to the Glue Interactive Sessions Kernel\n",
      "For more information on available magic commands, please type %help in any new cell.\n",
      "\n",
      "Please view our Getting Started page to access the most up-to-date information on the Interactive Sessions kernel: https://docs.aws.amazon.com/glue/latest/dg/interactive-sessions.html\n",
      "Additional python modules to be included:\n",
      "awswrangler\n",
      "Trying to create a Glue session for the kernel.\n",
      "Session Type: etl\n",
      "Session ID: 8b2ca828-7d66-4144-89ec-aa6504abd124\n",
      "Applying the following default arguments:\n",
      "--glue_kernel_version 1.0.6\n",
      "--enable-glue-datacatalog true\n",
      "--additional-python-modules awswrangler\n",
      "Waiting for session 8b2ca828-7d66-4144-89ec-aa6504abd124 to get into ready status...\n",
      "Session 8b2ca828-7d66-4144-89ec-aa6504abd124 has been created.\n",
      "\n"
     ]
    }
   ],
   "execution_count": 1
  },
  {
   "metadata": {
    "collapsed": true,
    "ExecuteTime": {
     "end_time": "2024-08-28T06:21:37.836012Z",
     "start_time": "2024-08-28T06:21:37.441094Z"
    }
   },
   "cell_type": "code",
   "source": [
    "env        = 'dev'\n",
    "output_full_path = 's3://sds-dev-transform-dwh-etl/ym_fct_competitor_prices_14_day_como_full/'\n",
    "output_full_path_tmp = 's3://sds-dev-transform-dwh-etl/ym_fct_competitor_prices_14_day_tmp_como_full/'\n",
    "output_limited_path = 's3://sds-dev-transform-dwh-etl/ym_fct_competitor_prices_14_day_como_limited/'\n",
    "output_limited_path_tmp = 's3://sds-dev-transform-dwh-etl/ym_fct_competitor_prices_14_day_tmp_como_limited/'\n",
    "output_limited_country_path = 's3://sds-dev-transform-dwh-etl/ym_fct_competitor_prices_14_day_como_limited_{}/'\n",
    "output_limited_country_path_tmp = 's3://sds-dev-transform-dwh-etl/ym_fct_competitor_prices_14_day_tmp_como_limited_{}/'"
   ],
   "id": "initial_id",
   "outputs": [
    {
     "name": "stdout",
     "output_type": "stream",
     "text": [
      "\n"
     ]
    }
   ],
   "execution_count": 2
  },
  {
   "metadata": {
    "ExecuteTime": {
     "end_time": "2024-08-28T06:21:38.883999Z",
     "start_time": "2024-08-28T06:21:38.347125Z"
    }
   },
   "cell_type": "code",
   "source": [
    "\n",
    "SqlQuery = \"\"\"\n",
    "WITH base as (\n",
    " SELECT\n",
    "    rank() OVER (PARTITION BY protection, competitor, CASE WHEN substr(shop_detail,6,3) = 'GDS' THEN 'GDS' ELSE 'No GDS' END, broker, mapped_scrs, mapped_fmod, mapped_crs, length_of_rent, pickup_date_time, pickup_station, return_date_time, return_station, tariff_type, payment_type, customer_no, mapped_mileage, point_of_sales, original_vehicle_category, original_crs, original_mileage ORDER BY created_at DESC, shop_date_time DESC, (CASE WHEN (COALESCE(converted_price, 0) = 0) THEN original_price ELSE converted_price END) ASC, rand() ASC) row_num\n",
    "   , competitor\n",
    "   , broker\n",
    "   , shop_date_time\n",
    "   , shop_detail\n",
    "   , CASE WHEN substr(shop_detail,6,3) = 'GDS' THEN 'GDS' ELSE 'No GDS' END AS GDS\n",
    "   , converted_price\n",
    "   , original_price\n",
    "   , converted_currency\n",
    "   , original_currency\n",
    "   , original_vehicle_category\n",
    "   , original_crs\n",
    "   , original_sample_vehicle\n",
    "   , mapped_scrs\n",
    "   , mapped_fmod\n",
    "   , mapped_crs\n",
    "   , length_of_rent\n",
    "   , pickup_date_time\n",
    "   , pickup_station\n",
    "   , return_date_time\n",
    "   , return_station\n",
    "   , tariff_type\n",
    "   , payment_type\n",
    "   , customer_no\n",
    "   , original_mileage\n",
    "   , mapped_mileage\n",
    "   , point_of_sales\n",
    "   , rate_level\n",
    "   , sixt_plan\n",
    "   , protection\n",
    "   FROM competitorprices)\n",
    "SELECT base.protection AS YCPR_PROTECTION_FLG_STRING\n",
    "    , (CASE WHEN (base.competitor <> 'Sixt') THEN 'Competitors' WHEN (CAST(base.protection AS integer) = 1) THEN 'Inclusive' ELSE 'Exclusive' END) AS YCPR_PROTECTION_SIXT\n",
    "    , (CASE WHEN (base.competitor = 'Sixt') THEN 'Sixt' WHEN (CAST(base.protection AS integer) = 1) THEN 'Inclusive' ELSE 'Exclusive' END) AS YCPR_PROTECTION_COMPETITORS\n",
    "    , base.competitor AS YCPR_COMPETITOR\n",
    "    , base.broker AS YCPR_BROKER\n",
    "    , CAST(base.shop_date_time AS timestamp) AS YCPR_SHOP_DATM\n",
    "    , concat(date_format(CAST(base.shop_date_time AS timestamp), 'y'), '_', extract(week FROM shop_date_time)) AS YCPR_SHOP_WEEK\n",
    "    , CAST(date_format(CAST(base.shop_date_time AS timestamp), 'yMMdd') AS integer) YCPR_SHOP_DTID\n",
    "    , datediff(current_date, date(CAST(base.shop_date_time AS timestamp))) YCPR_DATE_DIFF\n",
    "    , base.shop_detail YCPR_SHOP_DETAIL\n",
    "    , base.GDS YCPR_GDS\n",
    "    , CAST((CASE WHEN (COALESCE(converted_price, 0) = 0) THEN original_price ELSE converted_price END) AS decimal(10,2)) YCPR_FINAL_PRICE\n",
    "    , (CASE WHEN (base.converted_currency IS NULL) THEN base.original_currency ELSE CAST(converted_currency AS string) END) YCPR_FINAL_CURRENCY\n",
    "    , base.original_vehicle_category YCPR_VEHICLE_CATEGORY_ORIGINAL\n",
    "    , base.original_crs YCPR_CRS_ORIGINAL\n",
    "    , base.original_sample_vehicle YCPR_SAMPLE_VEHICLE_ORIGINAL\n",
    "    , base.mapped_scrs YCPR_SCRS_MAPPED\n",
    "    , base.mapped_fmod YCPR_FMOD_MAPPED\n",
    "    , base.mapped_crs YCPR_CRS_MAPPED\n",
    "    , (CASE WHEN base.mapped_crs like '%E' THEN 'E'\n",
    "                WHEN substr(base.mapped_crs,4,1) = 'H' THEN 'H'\n",
    "                WHEN base.mapped_crs in ('CCCC', 'FCCC', 'PCCC', 'CDHC', 'SFAC', 'SPAC', 'LFAC', 'XFAC') THEN 'O'\n",
    "                WHEN substr(base.mapped_crs,4,1) = 'C' THEN 'E'\n",
    "                ELSE 'O'\n",
    "            END) AS VHCL_ELECTRIC\n",
    "   \n",
    "    , CASE WHEN vg.vhgr_type_code in ('P', 'B', 'M')  then 'C&B' when (vg.vhgr_type_code='T' and base.mapped_crs<>'P') then 'C&B' else 'V&T' end as YCPR_VEHICLE_TYPE    \n",
    "    , CAST(base.length_of_rent AS integer) YCPR_RENTAL_DAYS\n",
    "    , CAST(base.length_of_rent AS string) YCPR_RENTAL_DAYS_STRING\n",
    "    , CAST(base.pickup_date_time AS timestamp) YCPR_HANDOVER_DATM\n",
    "    , CAST(date(CAST(base.pickup_date_time AS timestamp)) AS string) YCPR_HANDOVER_DATE\n",
    "    , date_trunc('week', CAST(base.pickup_date_time AS timestamp)) YCPR_HANDOVER_WEEK_DATE\n",
    "    , concat(date_format(CAST(base.pickup_date_time AS timestamp), 'y'), '_', extract(week FROM base.pickup_date_time)) YCPR_HANDOVER_WEEK\n",
    "    , date_format(CAST(base.pickup_date_time AS timestamp), 'y_MM') YCPR_HANDOVER_MONTH\n",
    "    , date_format(CAST(base.pickup_date_time AS timestamp), 'EEEE') YCPR_HANDOVER_DAY\n",
    "    , CAST(date_format(CAST(base.pickup_date_time AS timestamp), 'yMMdd') AS integer) YCPR_HANDOVER_DTID\n",
    "    , CAST(base.return_date_time AS timestamp) YCPR_RETURN_DATM\n",
    "    , CAST(date_format(CAST(base.return_date_time AS timestamp), 'yMMdd') AS integer) YCPR_RETURN_DTID\n",
    "    , CAST(base.pickup_station AS integer) BRNC_HANDOVER_CODE\n",
    "    , concat(CAST(br.brnc_code AS string), ' ', br.brnc_name) BRNC_HANDOVER_NAME\n",
    "    , br.brnc_country_code_iso BRNC_HANDOVER_COUNTRY\n",
    "    , br.brnc_region_code BRNC_HANDOVER_REGION_CODE\n",
    "    , concat(concat(CAST(br.brnc_region_code AS string), ' '), br.brnc_region) BRNC_HANDOVER_REGION\n",
    "    , br.brnc_pool_code BRNC_HANDOVER_POOL_CODE\n",
    "    , concat(concat(CAST(br.brnc_pool_code AS string), ' '), br.brnc_pool_name) BRNC_HANDOVER_POOL\n",
    "    , CAST(base.return_station AS string) BRNC_RETURN_CODE\n",
    "    , (CASE WHEN (base.pickup_station = CAST(base.return_station AS integer)) THEN 'N' ELSE 'Y' END) BRNC_ONE_WAY\n",
    "    , base.tariff_type YCPR_TARIFF_TYPE\n",
    "    , base.payment_type YCPR_PAYMENT_TYPE\n",
    "    , base.customer_no YCPR_CUSTOMER_NUMBER\n",
    "    , CAST(base.original_mileage AS bigint) YCPR_MILEAGE_ORIGINAL\n",
    "    , CAST(base.mapped_mileage AS string) YCPR_MILEAGE_MAPPED\n",
    "    , base.point_of_sales YCPR_POSL_COUNTRY_CODE\n",
    "    , CASE WHEN (br.brnc_country_code_iso = 'MC' and base.point_of_sales='FR') THEN 'Domestic'\n",
    "        WHEN base.point_of_sales=br.brnc_country_code_iso THEN 'Domestic'\n",
    "        else 'Inbound' end as YCPR_DOMESTIC_INBOUND\n",
    "    , base.rate_level YCPR_RATE_LEVEL\n",
    "    , cast(base.sixt_plan as string) YCPR_SIXT_PLAN_STRING\n",
    "    , base.row_num YCPR_RECORD_SEQUENCE\n",
    "    , current_timestamp() as YCPR_CURRENT_TIMESTAMP\n",
    "FROM base\n",
    "LEFT JOIN br_dim_branches br ON ((CAST(base.pickup_station AS integer) = br.brnc_code) AND (br.sys_deleted_flg = 0))\n",
    "LEFT JOIN ve_dim_vehicle_groups vg ON ((base.mapped_crs = vg.vhgr_crs) AND (vg.sys_deleted_flg = 0))\n",
    "WHERE (row_num IN (1)) AND ( case when br.brnc_country_code_iso in ('US', 'CA') then CAST(base.pickup_date_time AS timestamp) >= date_add(current_date, -1) else CAST(base.pickup_date_time AS timestamp) >= current_date end )\n",
    "\"\"\"\n",
    "\n",
    "SqlQueryLimited = \"\"\"\n",
    "SELECT a.* \n",
    "FROM competitorprices_full a\n",
    "LEFT JOIN ym_ref_como_lor_monitoring b \n",
    "  ON a.brnc_handover_country=b.ycpr_country AND a.ycpr_rental_days=b.ycpr_lor\n",
    "LEFT JOIN ym_ref_como_crs_monitoring c \n",
    "  ON a.brnc_handover_country=c.ycpr_country AND a.ycpr_crs_mapped=c.ycpr_crs\n",
    "WHERE a.ycpr_rental_days=b.ycpr_lor AND a.ycpr_crs_mapped=c.ycpr_crs\n",
    "\"\"\""
   ],
   "id": "112a94d7d0aa2726",
   "outputs": [
    {
     "name": "stdout",
     "output_type": "stream",
     "text": [
      "\n"
     ]
    }
   ],
   "execution_count": 4
  },
  {
   "metadata": {
    "ExecuteTime": {
     "end_time": "2024-08-28T06:21:40.297467Z",
     "start_time": "2024-08-28T06:21:39.796793Z"
    }
   },
   "cell_type": "code",
   "source": [
    "def path_exists(path: str) -> bool:\n",
    "    files = wr.s3.list_objects(path=path, s3_additional_kwargs={'MaxKeys': 1})\n",
    "    return len(files) > 0\n",
    "\n",
    "def safe_write_df_to_s3(df: DataFrame, temp_path: str, final_path: str, partition_keys=None):\n",
    "    wr.s3.delete_objects(temp_path)\n",
    "    if partition_keys is None:\n",
    "        df.write.parquet(temp_path)\n",
    "    else:\n",
    "        glueContext.write_dynamic_frame.from_options(\n",
    "            frame=DynamicFrame.fromDF(df, glueContext, 'partition_writing'),\n",
    "            connection_type=\"s3\",\n",
    "            format=\"parquet\",\n",
    "            connection_options={\n",
    "                \"path\": temp_path,\n",
    "                \"partitionKeys\":partition_keys,\n",
    "            }\n",
    "        )        \n",
    "    wr.s3.delete_objects(final_path)\n",
    "    wr.s3.copy_objects(paths=wr.s3.list_objects(path=temp_path), source_path=temp_path, target_path=final_path)\n",
    "    \n",
    "def create_spark_view(database: str, table_name: str):\n",
    "    spark_df = glueContext.create_dynamic_frame.from_catalog(database=database, table_name=table_name).toDF()\n",
    "    spark_df.createOrReplaceTempView(table_name)\n",
    "\n",
    "def drop_spark_view(table_name: str):\n",
    "    spark.catalog.dropTempView(table_name)"
   ],
   "id": "728d1d389125f42b",
   "outputs": [
    {
     "name": "stdout",
     "output_type": "stream",
     "text": [
      "\n"
     ]
    }
   ],
   "execution_count": 7
  },
  {
   "metadata": {
    "ExecuteTime": {
     "end_time": "2024-08-28T06:21:40.670328Z",
     "start_time": "2024-08-28T06:21:40.303569Z"
    }
   },
   "cell_type": "code",
   "source": [
    "current_date = datetime.datetime.now()\n",
    "folder_template = 's3://sds-{}-ingest-external-sftp-files-out/yield-sftp-user/CompetitorPrice/year={}/month={:02}/day={:02}/'\n",
    "source_folders = [folder_template.format(env, d.year, d.month, d.day) \n",
    "                  for d in [current_date - datetime.timedelta(days=i) for i in range(16)]]"
   ],
   "id": "74f0e7cfc35c4ca7",
   "outputs": [
    {
     "name": "stdout",
     "output_type": "stream",
     "text": [
      "\n"
     ]
    }
   ],
   "execution_count": 8
  },
  {
   "metadata": {
    "ExecuteTime": {
     "end_time": "2024-08-28T06:21:56.509568Z",
     "start_time": "2024-08-28T06:21:41.175071Z"
    }
   },
   "cell_type": "code",
   "source": [
    "\n",
    "existing_folders = [f for f in source_folders if path_exists(f)]\n",
    "\n",
    "source_df = spark.read.parquet(*existing_folders)\n",
    "source_df.createOrReplaceTempView('source_data')\n",
    "\n",
    "prev_date_str = (datetime.datetime.now() - datetime.timedelta(days=1)).strftime('%Y-%m-%d') \n",
    "source_competitor_prices = source_df.filter(f\"pickup_date_time >= date '{prev_date_str}'\")"
   ],
   "id": "65b74d2456b758e1",
   "outputs": [
    {
     "name": "stdout",
     "output_type": "stream",
     "text": [
      "\n"
     ]
    }
   ],
   "execution_count": 10
  },
  {
   "metadata": {
    "ExecuteTime": {
     "end_time": "2024-08-28T06:22:09.673559Z",
     "start_time": "2024-08-28T06:21:56.900815Z"
    }
   },
   "cell_type": "code",
   "source": [
    "create_spark_view(database='common_shop', table_name='br_dim_branches')\n",
    "create_spark_view(database='fleet_shop', table_name='ve_dim_vehicle_groups')\n",
    "source_competitor_prices.createOrReplaceTempView('competitorprices')\n",
    "\n",
    "competitor_prices_full = spark.sql(SqlQuery)\n",
    "\n",
    "drop_spark_view('br_dim_branches')\n",
    "drop_spark_view('ve_dim_vehicle_groups')"
   ],
   "id": "6a178205952a06ae",
   "outputs": [
    {
     "name": "stdout",
     "output_type": "stream",
     "text": [
      "/opt/amazon/spark/python/lib/pyspark.zip/pyspark/sql/dataframe.py:127: UserWarning: DataFrame constructor is internal. Do not directly use it.\n"
     ]
    }
   ],
   "execution_count": 12
  },
  {
   "metadata": {
    "ExecuteTime": {
     "end_time": "2024-08-28T06:26:34.359113Z",
     "start_time": "2024-08-28T06:22:10.203671Z"
    }
   },
   "cell_type": "code",
   "source": "safe_write_df_to_s3(competitor_prices_full, output_full_path_tmp, output_full_path)",
   "id": "732cc76f9be9ade9",
   "outputs": [
    {
     "name": "stdout",
     "output_type": "stream",
     "text": [
      "\n"
     ]
    }
   ],
   "execution_count": 14
  },
  {
   "metadata": {
    "ExecuteTime": {
     "end_time": "2024-08-28T06:26:37.431023Z",
     "start_time": "2024-08-28T06:26:34.810243Z"
    }
   },
   "cell_type": "code",
   "source": [
    "create_spark_view(database='yield_shop', table_name='ym_ref_como_crs_monitoring')\n",
    "create_spark_view(database='yield_shop', table_name='ym_ref_como_lor_monitoring')\n",
    "competitor_prices_full.createOrReplaceTempView('competitorprices_full')\n",
    "\n",
    "competitor_prices_limited = spark.sql(SqlQueryLimited)\n",
    "\n",
    "drop_spark_view('ym_ref_como_crs_monitoring')\n",
    "drop_spark_view('ym_ref_como_lor_monitoring')\n",
    "drop_spark_view('competitorprices_full')"
   ],
   "id": "df38048306621c98",
   "outputs": [
    {
     "name": "stdout",
     "output_type": "stream",
     "text": [
      "\n"
     ]
    }
   ],
   "execution_count": 16
  },
  {
   "metadata": {},
   "cell_type": "markdown",
   "source": "safe_write_df_to_s3(competitor_prices_limited, output_limited_path_tmp, output_limited_path)",
   "id": "756b16a7129aef43"
  },
  {
   "metadata": {},
   "cell_type": "markdown",
   "source": [
    "for country in COUNTRIES:\n",
    "    competitor_prices_limited_filtered = competitor_prices_limited.filter(f\"brnc_handover_country = '{country}'\")\n",
    "    safe_write_df_to_s3(\n",
    "        competitor_prices_limited_filtered, \n",
    "        output_limited_country_path_tmp.format(country),\n",
    "        output_limited_country_path.format(country))"
   ],
   "id": "d03c793d5b9afbed"
  },
  {
   "metadata": {
    "ExecuteTime": {
     "end_time": "2024-08-28T06:34:51.856131Z",
     "start_time": "2024-08-28T06:26:37.851841Z"
    }
   },
   "cell_type": "code",
   "source": "safe_write_df_to_s3(competitor_prices_limited, output_limited_path_tmp, output_limited_path, ['brnc_handover_country'])",
   "id": "fc7aa660ade499fc",
   "outputs": [
    {
     "name": "stdout",
     "output_type": "stream",
     "text": [
      "\n"
     ]
    }
   ],
   "execution_count": 18
  }
 ],
 "metadata": {
  "kernelspec": {
   "display_name": "Glue PySpark",
   "language": "python",
   "name": "glue_pyspark"
  },
  "language_info": {
   "codemirror_mode": {
    "name": "ipython",
    "version": 2
   },
   "file_extension": ".py",
   "mimetype": "text/x-python",
   "name": "python",
   "nbconvert_exporter": "python",
   "pygments_lexer": "ipython2",
   "version": "2.7.6"
  }
 },
 "nbformat": 4,
 "nbformat_minor": 5
}
