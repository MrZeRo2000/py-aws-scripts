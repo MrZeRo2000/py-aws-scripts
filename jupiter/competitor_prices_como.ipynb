{
 "cells": [
  {
   "cell_type": "code",
   "id": "initial_id",
   "metadata": {
    "collapsed": true,
    "ExecuteTime": {
     "end_time": "2024-08-23T14:28:10.057947Z",
     "start_time": "2024-08-23T14:27:39.789109Z"
    }
   },
   "source": [
    "import boto3\n",
    "from pyspark.sql import DataFrame\n",
    "from pyspark.sql.session import SparkSession\n",
    "from pyspark.context import SparkContext\n",
    "from pyspark.sql.utils import AnalysisException\n",
    "from awsglue.utils import getResolvedOptions\n",
    "from awsglue.context import GlueContext\n",
    "\n",
    "session = boto3.session.Session(region_name='eu-west-1')\n",
    "s3 = session.client('s3')\n",
    "glue = session.client('glue')\n",
    "spark = SparkSession.builder.config('spark.serializer','org.apache.spark.serializer.KryoSerializer').config('spark.sql.hive.convertMetastoreParquet','false').getOrCreate()\n",
    "sc = spark.sparkContext\n",
    "glueContext = GlueContext(SparkContext.getOrCreate())"
   ],
   "outputs": [
    {
     "name": "stdout",
     "output_type": "stream",
     "text": [
      "Welcome to the Glue Interactive Sessions Kernel\n",
      "For more information on available magic commands, please type %help in any new cell.\n",
      "\n",
      "Please view our Getting Started page to access the most up-to-date information on the Interactive Sessions kernel: https://docs.aws.amazon.com/glue/latest/dg/interactive-sessions.html\n",
      "Trying to create a Glue session for the kernel.\n",
      "Session Type: etl\n",
      "Session ID: c87d800c-6c31-404d-bf86-1d665b4f545a\n",
      "Applying the following default arguments:\n",
      "--glue_kernel_version 1.0.6\n",
      "--enable-glue-datacatalog true\n",
      "Waiting for session c87d800c-6c31-404d-bf86-1d665b4f545a to get into ready status...\n",
      "Session c87d800c-6c31-404d-bf86-1d665b4f545a has been created.\n",
      "\n"
     ]
    }
   ],
   "execution_count": 1
  },
  {
   "metadata": {
    "ExecuteTime": {
     "end_time": "2024-08-23T14:31:29.160824Z",
     "start_time": "2024-08-23T14:31:29.079716Z"
    }
   },
   "cell_type": "code",
   "source": "",
   "id": "728d1d389125f42b",
   "outputs": [
    {
     "name": "stderr",
     "output_type": "stream",
     "text": [
      "You are already connected to a glueetl session c87d800c-6c31-404d-bf86-1d665b4f545a.\n",
      "\n",
      "No change will be made to the current session that is set as glueetl. The session configuration change will apply to newly created sessions.\n"
     ]
    },
    {
     "name": "stdout",
     "output_type": "stream",
     "text": [
      "Setting Glue version to: 4.0\n"
     ]
    }
   ],
   "execution_count": 12
  }
 ],
 "metadata": {
  "kernelspec": {
   "display_name": "Glue PySpark",
   "language": "python",
   "name": "glue_pyspark"
  },
  "language_info": {
   "codemirror_mode": {
    "name": "ipython",
    "version": 2
   },
   "file_extension": ".py",
   "mimetype": "text/x-python",
   "name": "python",
   "nbconvert_exporter": "python",
   "pygments_lexer": "ipython2",
   "version": "2.7.6"
  }
 },
 "nbformat": 4,
 "nbformat_minor": 5
}
