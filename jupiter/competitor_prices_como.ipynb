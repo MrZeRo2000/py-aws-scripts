{
 "cells": [
  {
   "cell_type": "code",
   "id": "660a4ba01180e3f4",
   "metadata": {
    "ExecuteTime": {
     "end_time": "2024-08-27T09:20:45.453205Z",
     "start_time": "2024-08-27T09:19:58.972183Z"
    }
   },
   "source": [
    "!pip install awswrangler\n",
    "%additional_python_modules awswrangler\n",
    "\n",
    "import boto3\n",
    "import datetime\n",
    "import awswrangler as wr\n",
    "from pyspark.sql import DataFrame\n",
    "from pyspark.sql.session import SparkSession\n",
    "from pyspark.context import SparkContext\n",
    "from pyspark.sql.utils import AnalysisException\n",
    "from awsglue.utils import getResolvedOptions\n",
    "from awsglue.context import GlueContext\n",
    "\n",
    "session = boto3.session.Session(region_name='eu-west-1')\n",
    "s3 = session.client('s3')\n",
    "glue = session.client('glue')\n",
    "spark = SparkSession.builder.config('spark.serializer','org.apache.spark.serializer.KryoSerializer').config('spark.sql.hive.convertMetastoreParquet','false').getOrCreate()\n",
    "sc = spark.sparkContext\n",
    "glueContext = GlueContext(SparkContext.getOrCreate())\n"
   ],
   "outputs": [
    {
     "name": "stdout",
     "output_type": "stream",
     "text": [
      "Welcome to the Glue Interactive Sessions Kernel\n",
      "For more information on available magic commands, please type %help in any new cell.\n",
      "\n",
      "Please view our Getting Started page to access the most up-to-date information on the Interactive Sessions kernel: https://docs.aws.amazon.com/glue/latest/dg/interactive-sessions.html\n",
      "Additional python modules to be included:\n",
      "awswrangler\n",
      "Requirement already satisfied: awswrangler in c:\\users\\r1525\\prj\\pycharmprojects\\py-aws-scripts\\venv\\lib\\site-packages (3.7.2)\n",
      "Requirement already satisfied: boto3<2.0.0,>=1.20.32 in c:\\users\\r1525\\prj\\pycharmprojects\\py-aws-scripts\\venv\\lib\\site-packages (from awswrangler) (1.34.74)\n",
      "Requirement already satisfied: botocore<2.0.0,>=1.23.32 in c:\\users\\r1525\\prj\\pycharmprojects\\py-aws-scripts\\venv\\lib\\site-packages (from awswrangler) (1.34.74)\n",
      "Requirement already satisfied: numpy<2.0,>=1.18 in c:\\users\\r1525\\prj\\pycharmprojects\\py-aws-scripts\\venv\\lib\\site-packages (from awswrangler) (1.26.4)\n",
      "Requirement already satisfied: packaging<25.0,>=21.1 in c:\\users\\r1525\\prj\\pycharmprojects\\py-aws-scripts\\venv\\lib\\site-packages (from awswrangler) (24.0)\n",
      "Requirement already satisfied: pandas<3.0.0,>=1.2.0 in c:\\users\\r1525\\prj\\pycharmprojects\\py-aws-scripts\\venv\\lib\\site-packages (from awswrangler) (1.5.3)\n",
      "Requirement already satisfied: pyarrow>=8.0.0 in c:\\users\\r1525\\prj\\pycharmprojects\\py-aws-scripts\\venv\\lib\\site-packages (from awswrangler) (15.0.2)\n",
      "Requirement already satisfied: typing-extensions<5.0.0,>=4.4.0 in c:\\users\\r1525\\prj\\pycharmprojects\\py-aws-scripts\\venv\\lib\\site-packages (from awswrangler) (4.10.0)\n",
      "Requirement already satisfied: jmespath<2.0.0,>=0.7.1 in c:\\users\\r1525\\prj\\pycharmprojects\\py-aws-scripts\\venv\\lib\\site-packages (from boto3<2.0.0,>=1.20.32->awswrangler) (1.0.1)\n",
      "Requirement already satisfied: s3transfer<0.11.0,>=0.10.0 in c:\\users\\r1525\\prj\\pycharmprojects\\py-aws-scripts\\venv\\lib\\site-packages (from boto3<2.0.0,>=1.20.32->awswrangler) (0.10.1)\n",
      "Requirement already satisfied: python-dateutil<3.0.0,>=2.1 in c:\\users\\r1525\\prj\\pycharmprojects\\py-aws-scripts\\venv\\lib\\site-packages (from botocore<2.0.0,>=1.23.32->awswrangler) (2.9.0.post0)\n",
      "Requirement already satisfied: urllib3!=2.2.0,<3,>=1.25.4 in c:\\users\\r1525\\prj\\pycharmprojects\\py-aws-scripts\\venv\\lib\\site-packages (from botocore<2.0.0,>=1.23.32->awswrangler) (2.2.1)\n",
      "Requirement already satisfied: pytz>=2020.1 in c:\\users\\r1525\\prj\\pycharmprojects\\py-aws-scripts\\venv\\lib\\site-packages (from pandas<3.0.0,>=1.2.0->awswrangler) (2024.1)\n",
      "Requirement already satisfied: six>=1.5 in c:\\users\\r1525\\prj\\pycharmprojects\\py-aws-scripts\\venv\\lib\\site-packages (from python-dateutil<3.0.0,>=2.1->botocore<2.0.0,>=1.23.32->awswrangler) (1.16.0)\n"
     ]
    },
    {
     "name": "stderr",
     "output_type": "stream",
     "text": [
      "\n",
      "[notice] A new release of pip is available: 24.0 -> 24.2\n",
      "[notice] To update, run: python.exe -m pip install --upgrade pip\n"
     ]
    },
    {
     "name": "stdout",
     "output_type": "stream",
     "text": [
      "Trying to create a Glue session for the kernel.\n",
      "Session Type: etl\n",
      "Session ID: 9f172e7d-da0d-43b7-9b21-a834ad7e64d7\n",
      "Applying the following default arguments:\n",
      "--glue_kernel_version 1.0.6\n",
      "--enable-glue-datacatalog true\n",
      "--additional-python-modules awswrangler\n",
      "Waiting for session 9f172e7d-da0d-43b7-9b21-a834ad7e64d7 to get into ready status...\n",
      "Session 9f172e7d-da0d-43b7-9b21-a834ad7e64d7 has been created.\n",
      "\n"
     ]
    }
   ],
   "execution_count": 1
  },
  {
   "metadata": {
    "collapsed": true,
    "ExecuteTime": {
     "end_time": "2024-08-27T09:20:57.115315Z",
     "start_time": "2024-08-27T09:20:56.631288Z"
    }
   },
   "cell_type": "code",
   "source": [
    "env        = 'dev'\n",
    "output_full_path = 's3://sds-dev-transform-dwh-etl/ym_fct_competitor_prices_14_day_como_full/'\n",
    "output_full_path_tmp = 's3://sds-dev-transform-dwh-etl/ym_fct_competitor_prices_14_day_tmp_como_full/'\n",
    "output_limited_path = 's3://sds-dev-transform-dwh-etl/ym_fct_competitor_prices_14_day_como_limited/'\n",
    "output_limited_path_tmp = 's3://sds-dev-transform-dwh-etl/ym_fct_competitor_prices_14_day_tmp_como_limited/'"
   ],
   "id": "initial_id",
   "outputs": [
    {
     "name": "stdout",
     "output_type": "stream",
     "text": [
      "\n"
     ]
    }
   ],
   "execution_count": 3
  },
  {
   "metadata": {
    "ExecuteTime": {
     "end_time": "2024-08-23T14:31:29.160824Z",
     "start_time": "2024-08-23T14:31:29.079716Z"
    }
   },
   "cell_type": "code",
   "source": [
    "\n",
    "SqlQuery = \"\"\"\n",
    "WITH base as (\n",
    " SELECT\n",
    "    rank() OVER (PARTITION BY protection, competitor, CASE WHEN substr(shop_detail,6,3) = 'GDS' THEN 'GDS' ELSE 'No GDS' END, broker, mapped_scrs, mapped_fmod, mapped_crs, length_of_rent, pickup_date_time, pickup_station, return_date_time, return_station, tariff_type, payment_type, customer_no, mapped_mileage, point_of_sales, original_vehicle_category, original_crs, original_mileage ORDER BY created_at DESC, shop_date_time DESC, (CASE WHEN (COALESCE(converted_price, 0) = 0) THEN original_price ELSE converted_price END) ASC, rand() ASC) row_num\n",
    "   , competitor\n",
    "   , broker\n",
    "   , shop_date_time\n",
    "   , shop_detail\n",
    "   , CASE WHEN substr(shop_detail,6,3) = 'GDS' THEN 'GDS' ELSE 'No GDS' END AS GDS\n",
    "   , converted_price\n",
    "   , original_price\n",
    "   , converted_currency\n",
    "   , original_currency\n",
    "   , original_vehicle_category\n",
    "   , original_crs\n",
    "   , original_sample_vehicle\n",
    "   , mapped_scrs\n",
    "   , mapped_fmod\n",
    "   , mapped_crs\n",
    "   , length_of_rent\n",
    "   , pickup_date_time\n",
    "   , pickup_station\n",
    "   , return_date_time\n",
    "   , return_station\n",
    "   , tariff_type\n",
    "   , payment_type\n",
    "   , customer_no\n",
    "   , original_mileage\n",
    "   , mapped_mileage\n",
    "   , point_of_sales\n",
    "   , rate_level\n",
    "   , sixt_plan\n",
    "   , protection\n",
    "   FROM competitorprice)\n",
    "SELECT base.protection AS YCPR_PROTECTION_FLG_STRING\n",
    "    , (CASE WHEN (base.competitor <> 'Sixt') THEN 'Competitors' WHEN (CAST(base.protection AS integer) = 1) THEN 'Inclusive' ELSE 'Exclusive' END) AS YCPR_PROTECTION_SIXT\n",
    "    , (CASE WHEN (base.competitor = 'Sixt') THEN 'Sixt' WHEN (CAST(base.protection AS integer) = 1) THEN 'Inclusive' ELSE 'Exclusive' END) AS YCPR_PROTECTION_COMPETITORS\n",
    "    , base.competitor AS YCPR_COMPETITOR\n",
    "    , base.broker AS YCPR_BROKER\n",
    "    , CAST(base.shop_date_time AS timestamp) AS YCPR_SHOP_DATM\n",
    "    , concat(date_format(CAST(base.shop_date_time AS timestamp), 'y'), '_', extract(week FROM shop_date_time)) AS YCPR_SHOP_WEEK\n",
    "    , CAST(date_format(CAST(base.shop_date_time AS timestamp), 'yMMdd') AS integer) YCPR_SHOP_DTID\n",
    "    , datediff(current_date, date(CAST(base.shop_date_time AS timestamp))) YCPR_DATE_DIFF\n",
    "    , base.shop_detail YCPR_SHOP_DETAIL\n",
    "    , base.GDS YCPR_GDS\n",
    "    , CAST((CASE WHEN (COALESCE(converted_price, 0) = 0) THEN original_price ELSE converted_price END) AS decimal(10,2)) YCPR_FINAL_PRICE\n",
    "    , (CASE WHEN (base.converted_currency IS NULL) THEN base.original_currency ELSE CAST(converted_currency AS string) END) YCPR_FINAL_CURRENCY\n",
    "    , base.original_vehicle_category YCPR_VEHICLE_CATEGORY_ORIGINAL\n",
    "    , base.original_crs YCPR_CRS_ORIGINAL\n",
    "    , base.original_sample_vehicle YCPR_SAMPLE_VEHICLE_ORIGINAL\n",
    "    , base.mapped_scrs YCPR_SCRS_MAPPED\n",
    "    , base.mapped_fmod YCPR_FMOD_MAPPED\n",
    "    , base.mapped_crs YCPR_CRS_MAPPED\n",
    "    , (CASE WHEN base.mapped_crs like '%E' THEN 'E'\n",
    "                WHEN substr(base.mapped_crs,4,1) = 'H' THEN 'H'\n",
    "                WHEN base.mapped_crs in ('CCCC', 'FCCC', 'PCCC', 'CDHC', 'SFAC', 'SPAC', 'LFAC', 'XFAC') THEN 'O'\n",
    "                WHEN substr(base.mapped_crs,4,1) = 'C' THEN 'E'\n",
    "                ELSE 'O'\n",
    "            END) AS VHCL_ELECTRIC\n",
    "   \n",
    "    , CASE WHEN vg.vhgr_type_code in ('P', 'B', 'M')  then 'C&B' when (vg.vhgr_type_code='T' and base.mapped_crs<>'P') then 'C&B' else 'V&T' end as YCPR_VEHICLE_TYPE    \n",
    "    , CAST(base.length_of_rent AS integer) YCPR_RENTAL_DAYS\n",
    "    , CAST(base.length_of_rent AS string) YCPR_RENTAL_DAYS_STRING\n",
    "    , CAST(base.pickup_date_time AS timestamp) YCPR_HANDOVER_DATM\n",
    "    , CAST(date(CAST(base.pickup_date_time AS timestamp)) AS string) YCPR_HANDOVER_DATE\n",
    "    , date_trunc('week', CAST(base.pickup_date_time AS timestamp)) YCPR_HANDOVER_WEEK_DATE\n",
    "    , concat(date_format(CAST(base.pickup_date_time AS timestamp), 'y'), '_', extract(week FROM base.pickup_date_time)) YCPR_HANDOVER_WEEK\n",
    "    , date_format(CAST(base.pickup_date_time AS timestamp), 'y_MM') YCPR_HANDOVER_MONTH\n",
    "    , date_format(CAST(base.pickup_date_time AS timestamp), 'EEEE') YCPR_HANDOVER_DAY\n",
    "    , CAST(date_format(CAST(base.pickup_date_time AS timestamp), 'yMMdd') AS integer) YCPR_HANDOVER_DTID\n",
    "    , CAST(base.return_date_time AS timestamp) YCPR_RETURN_DATM\n",
    "    , CAST(date_format(CAST(base.return_date_time AS timestamp), 'yMMdd') AS integer) YCPR_RETURN_DTID\n",
    "    , CAST(base.pickup_station AS integer) BRNC_HANDOVER_CODE\n",
    "    , concat(CAST(br.brnc_code AS string), ' ', br.brnc_name) BRNC_HANDOVER_NAME\n",
    "    , br.brnc_country_code_iso BRNC_HANDOVER_COUNTRY\n",
    "    , br.brnc_region_code BRNC_HANDOVER_REGION_CODE\n",
    "    , concat(concat(CAST(br.brnc_region_code AS string), ' '), br.brnc_region) BRNC_HANDOVER_REGION\n",
    "    , br.brnc_pool_code BRNC_HANDOVER_POOL_CODE\n",
    "    , concat(concat(CAST(br.brnc_pool_code AS string), ' '), br.brnc_pool_name) BRNC_HANDOVER_POOL\n",
    "    , CAST(base.return_station AS string) BRNC_RETURN_CODE\n",
    "    , (CASE WHEN (base.pickup_station = CAST(base.return_station AS integer)) THEN 'N' ELSE 'Y' END) BRNC_ONE_WAY\n",
    "    , base.tariff_type YCPR_TARIFF_TYPE\n",
    "    , base.payment_type YCPR_PAYMENT_TYPE\n",
    "    , base.customer_no YCPR_CUSTOMER_NUMBER\n",
    "    , CAST(base.original_mileage AS bigint) YCPR_MILEAGE_ORIGINAL\n",
    "    , CAST(base.mapped_mileage AS string) YCPR_MILEAGE_MAPPED\n",
    "    , base.point_of_sales YCPR_POSL_COUNTRY_CODE\n",
    "    , CASE WHEN (br.brnc_country_code_iso = 'MC' and base.point_of_sales='FR') THEN 'Domestic'\n",
    "        WHEN base.point_of_sales=br.brnc_country_code_iso THEN 'Domestic'\n",
    "        else 'Inbound' end as YCPR_DOMESTIC_INBOUND\n",
    "    , base.rate_level YCPR_RATE_LEVEL\n",
    "    , cast(base.sixt_plan as string) YCPR_SIXT_PLAN_STRING\n",
    "    , base.row_num YCPR_RECORD_SEQUENCE\n",
    "    , current_timestamp() as YCPR_CURRENT_TIMESTAMP\n",
    "FROM base\n",
    "LEFT JOIN branches br ON ((CAST(base.pickup_station AS integer) = br.brnc_code) AND (br.sys_deleted_flg = 0))\n",
    "LEFT JOIN vehiclegroups vg ON ((base.mapped_crs = vg.vhgr_crs) AND (vg.sys_deleted_flg = 0))\n",
    "WHERE (row_num IN (1)) AND ( case when br.brnc_country_code_iso in ('US', 'CA') then CAST(base.pickup_date_time AS timestamp) >= date_add(current_date, -1) else CAST(base.pickup_date_time AS timestamp) >= current_date end )\n",
    "\"\"\"\n"
   ],
   "id": "728d1d389125f42b",
   "outputs": [
    {
     "name": "stderr",
     "output_type": "stream",
     "text": [
      "You are already connected to a glueetl session c87d800c-6c31-404d-bf86-1d665b4f545a.\n",
      "\n",
      "No change will be made to the current session that is set as glueetl. The session configuration change will apply to newly created sessions.\n"
     ]
    },
    {
     "name": "stdout",
     "output_type": "stream",
     "text": [
      "Setting Glue version to: 4.0\n"
     ]
    }
   ],
   "execution_count": 12
  },
  {
   "metadata": {
    "ExecuteTime": {
     "end_time": "2024-08-27T08:57:43.563677Z",
     "start_time": "2024-08-27T08:57:43.168624Z"
    }
   },
   "cell_type": "code",
   "source": [
    "t = datetime.datetime.now()\n",
    "y_m_d_folder = []\n",
    "for i in range(16):\n",
    "    date_to_check = t - datetime.timedelta(days=i)\n",
    "    year=date_to_check.year\n",
    "    day_0 = str(date_to_check.day).zfill(2)\n",
    "    month_0 = str(date_to_check.month).zfill(2)\n",
    "    #print(year, month_0, day_0)\n",
    "\n",
    "    folder_path = f's3://sds-{env}-ingest-external-sftp-files-out/yield-sftp-user/CompetitorPrice/year={year}/month={month_0}/day={day_0}/'\n",
    "    #print(folder_path)   \n",
    "    y_m_d_folder.append(folder_path)\n",
    "    \n",
    "print(y_m_d_folder)    \n"
   ],
   "id": "3728e80fb0c0ce6",
   "outputs": [
    {
     "name": "stdout",
     "output_type": "stream",
     "text": [
      "['s3://sds-dev-ingest-external-sftp-files-out/yield-sftp-user/CompetitorPrice/year=2024/month=08/day=27/', 's3://sds-dev-ingest-external-sftp-files-out/yield-sftp-user/CompetitorPrice/year=2024/month=08/day=26/', 's3://sds-dev-ingest-external-sftp-files-out/yield-sftp-user/CompetitorPrice/year=2024/month=08/day=25/', 's3://sds-dev-ingest-external-sftp-files-out/yield-sftp-user/CompetitorPrice/year=2024/month=08/day=24/', 's3://sds-dev-ingest-external-sftp-files-out/yield-sftp-user/CompetitorPrice/year=2024/month=08/day=23/', 's3://sds-dev-ingest-external-sftp-files-out/yield-sftp-user/CompetitorPrice/year=2024/month=08/day=22/', 's3://sds-dev-ingest-external-sftp-files-out/yield-sftp-user/CompetitorPrice/year=2024/month=08/day=21/', 's3://sds-dev-ingest-external-sftp-files-out/yield-sftp-user/CompetitorPrice/year=2024/month=08/day=20/', 's3://sds-dev-ingest-external-sftp-files-out/yield-sftp-user/CompetitorPrice/year=2024/month=08/day=19/', 's3://sds-dev-ingest-external-sftp-files-out/yield-sftp-user/CompetitorPrice/year=2024/month=08/day=18/', 's3://sds-dev-ingest-external-sftp-files-out/yield-sftp-user/CompetitorPrice/year=2024/month=08/day=17/', 's3://sds-dev-ingest-external-sftp-files-out/yield-sftp-user/CompetitorPrice/year=2024/month=08/day=16/', 's3://sds-dev-ingest-external-sftp-files-out/yield-sftp-user/CompetitorPrice/year=2024/month=08/day=15/', 's3://sds-dev-ingest-external-sftp-files-out/yield-sftp-user/CompetitorPrice/year=2024/month=08/day=14/', 's3://sds-dev-ingest-external-sftp-files-out/yield-sftp-user/CompetitorPrice/year=2024/month=08/day=13/', 's3://sds-dev-ingest-external-sftp-files-out/yield-sftp-user/CompetitorPrice/year=2024/month=08/day=12/']\n"
     ]
    }
   ],
   "execution_count": 9
  },
  {
   "metadata": {},
   "cell_type": "code",
   "source": [
    "current_date = datetime.datetime.now()\n",
    "folder_template = 's3://sds-{}-ingest-external-sftp-files-out/yield-sftp-user/CompetitorPrice/year={}/month={:02}/day={:02}/'\n",
    "source_folders = [folder_template.format(env, d.year, d.month, d.day) \n",
    "                  for d in [current_date - datetime.timedelta(days=i) for i in range(16)]]\n",
    "print(source_folders)"
   ],
   "id": "74f0e7cfc35c4ca7",
   "outputs": [],
   "execution_count": null
  },
  {
   "metadata": {
    "ExecuteTime": {
     "end_time": "2024-08-27T09:54:44.202775Z",
     "start_time": "2024-08-27T09:54:36.652621Z"
    }
   },
   "cell_type": "code",
   "source": [
    "def path_exists(path: str) -> bool:\n",
    "    files = wr.s3.list_objects(path=path, s3_additional_kwargs={'MaxKeys': 1})\n",
    "    return len(files) > 0\n",
    "existing_folders = [f for f in source_folders if path_exists(f)]\n",
    "\n",
    "df = spark.read.parquet(*existing_folders)\n",
    "df.createOrReplaceTempView('source_data')\n",
    "\n",
    "source_competitor_price = spark.sql(\"\"\"\n",
    "        SELECT * \n",
    "        FROM source_data\n",
    "        WHERE (pickup_date_time >= date_sub(current_date, 1))\n",
    "    \"\"\")\n",
    "    \n",
    "source_competitor_price.show()    "
   ],
   "id": "11620f66eff34259",
   "outputs": [
    {
     "name": "stdout",
     "output_type": "stream",
     "text": [
      "+--------------------+-------------------+--------------------+---------------+------------------+--------------+-----------------+-------------------------+------------+-----------------------+------------+-------------+----------+--------------+--------------------+--------------+--------------------+--------------+----------+-----------+----------+---------------+-------+-----------+----------------+--------------+--------------+----------+---------+------------+--------------------+----+----+----+-------------+--------------+\n",
      "|      shop_date_time|        shop_source|         shop_detail|converted_price|converted_currency|original_price|original_currency|original_vehicle_category|original_crs|original_sample_vehicle| mapped_scrs|  mapped_fmod|mapped_crs|length_of_rent|    pickup_date_time|pickup_station|    return_date_time|return_station|protection|tariff_type|competitor|         source| broker|customer_no|original_mileage|mapped_mileage|point_of_sales|rate_level|sixt_plan|payment_type|          created_at|line|akdn|ykdn|pricing_rules|pickup_country|\n",
      "+--------------------+-------------------+--------------------+---------------+------------------+--------------+-----------------+-------------------------+------------+-----------------------+------------+-------------+----------+--------------+--------------------+--------------+--------------------+--------------+----------+-----------+----------+---------------+-------+-----------+----------------+--------------+--------------+----------+---------+------------+--------------------+----+----+----+-------------+--------------+\n",
      "|2024-08-26 02:04:...|DataSeekersGoOrange|SIXT-EX1-US-US-P-...|            0.0|              null|        493.93|              USD|                  Economy|        ECAR|   Chevrolet Spark o...|     Economy|    Limousine|      ECAR|             3|2024-08-27 11:00:...|         45374|2024-08-30 09:00:...|         45954|     false|       null|     Hertz|www.expedia.com|Expedia|       null|              -1|            -1|            US|      null|        0|         POA|2024-08-26 09:40:...| 391|   0|   0|         null|            US|\n",
      "|2024-08-26 02:04:...|DataSeekersGoOrange|SIXT-EX1-US-US-P-...|            0.0|              null|        416.55|              USD|                 Standard|        SCAR|    VW Jetta or similar|    Standard|    Limousine|      SCAR|             3|2024-08-27 11:00:...|         45374|2024-08-30 09:00:...|         45954|     false|       null|  National|www.expedia.com|Expedia|       null|              -1|            -1|            US|      null|        0|         POA|2024-08-26 09:40:...| 397|   0|   0|         null|            US|\n",
      "|2024-08-26 02:04:...|DataSeekersGoOrange|SIXT-EX1-US-US-P-...|            0.0|              null|        383.88|              USD|                  Compact|        CCAR|   Nissan Versa or s...|     Compact|    Limousine|      CCAR|             3|2024-08-31 11:00:...|         45374|2024-09-03 09:00:...|         45954|     false|       null|  National|www.expedia.com|Expedia|       null|              -1|            -1|            US|      null|        0|         POA|2024-08-26 09:40:...| 404|   0|   0|         null|            US|\n",
      "|2024-08-26 02:04:...|DataSeekersGoOrange|SIXT-EX1-US-US-P-...|            0.0|              null|        449.99|              USD|                  Compact|        CCAR|   Ford Focus or sim...|     Compact|    Limousine|      CCAR|             3|2024-08-31 11:00:...|         45374|2024-09-03 09:00:...|         45954|     false|       null|     Hertz|www.expedia.com|Expedia|       null|              -1|            -1|            US|      null|        0|         POA|2024-08-26 09:40:...| 410|   0|   0|         null|            US|\n",
      "|2024-08-26 02:04:...|DataSeekersGoOrange|SIXT-EX1-US-US-P-...|            0.0|              null|        391.17|              USD|                  Midsize|        ICAR|   Toyota Corolla or...|    Standard|    Limousine|      SCAR|             3|2024-08-31 11:00:...|         45374|2024-09-03 09:00:...|         45954|     false|       null|      Avis|www.expedia.com|Expedia|       null|              -1|            -1|            US|      null|        0|         POA|2024-08-26 09:40:...| 416|   0|   0|         null|            US|\n",
      "|2024-08-26 02:04:...|DataSeekersGoOrange|SIXT-EX1-US-US-P-...|            0.0|              null|        307.62|              USD|                  Economy|        ECAR|   Mitsubishi Mirage...|     Economy|    Limousine|      ECAR|             3|2024-08-31 11:00:...|         45374|2024-09-03 09:00:...|         45954|     false|       null|     Alamo|www.expedia.com|Expedia|       null|              -1|            -1|            US|      null|        0|         POA|2024-08-26 09:40:...| 422|   0|   0|         null|            US|\n",
      "|2024-08-26 02:04:...|DataSeekersGoOrange|SIXT-EX1-US-US-P-...|            0.0|              null|        311.31|              USD|                  Compact|        CCAR|    Kia Soul or similar|     Compact|    Limousine|      CCAR|             3|2024-08-31 11:00:...|         45374|2024-09-03 09:00:...|         45954|     false|       null|    Budget|www.expedia.com|Expedia|       null|              -1|            -1|            US|      null|        0|         POA|2024-08-26 09:40:...| 428|   0|   0|         null|            US|\n",
      "|2024-08-26 02:04:...|DataSeekersGoOrange|SIXT-EX1-US-US-P-...|            0.0|              null|        598.08|              USD|                 Mini Van|        MVAR|   Chrysler Pacifica...|       MPV 7|Multiseater 7|      MVAR|             3|2024-08-31 11:00:...|         45374|2024-09-03 09:00:...|         45954|     false|       null|      Avis|www.expedia.com|Expedia|       null|              -1|            -1|            US|      null|        0|         POA|2024-08-26 09:40:...| 435|   0|   0|         null|            US|\n",
      "|2024-08-26 02:04:...|DataSeekersGoOrange|SIXT-EX1-US-US-P-...|            0.0|              null|         293.7|              USD|                  Economy|        ECAR|     Kia Rio or similar|     Economy|    Limousine|      ECAR|             3|2024-08-31 11:00:...|         45374|2024-09-03 09:00:...|         45954|     false|       null|    Budget|www.expedia.com|Expedia|       null|              -1|            -1|            US|      null|        0|         POA|2024-08-26 09:40:...| 441|   0|   0|         null|            US|\n",
      "|2024-08-26 02:04:...|DataSeekersGoOrange|SIXT-EX1-US-US-P-...|            0.0|              null|        545.45|              USD|       Standard Elite SUV|        RFAR|   Chevrolet Travers...|    Standard|     Off Road|      RFAR|             3|2024-08-31 11:00:...|         45374|2024-09-03 09:00:...|         45954|     false|       null|      Avis|www.expedia.com|Expedia|       null|              -1|            -1|            US|      null|        0|          PP|2024-08-26 09:40:...| 447|   0|   0|         null|            US|\n",
      "|2024-08-26 02:04:...|DataSeekersGoOrange|SIXT-EX1-US-US-P-...|            0.0|              null|        391.14|              USD|                  Midsize|        ICAR|   Toyota Corolla or...|    Standard|    Limousine|      SCAR|             3|2024-08-31 11:00:...|         45374|2024-09-03 09:00:...|         45954|     false|       null|  National|www.expedia.com|Expedia|       null|              -1|            -1|            US|      null|        0|         POA|2024-08-26 09:40:...| 453|   0|   0|         null|            US|\n",
      "|2024-08-26 02:04:...|DataSeekersGoOrange|SIXT-EX1-US-US-P-...|            0.0|              null|        311.24|              USD|             Standard SUV|        SFAR|   Ford Edge or similar|    Standard|     Off Road|      SFAR|             3|2024-08-31 11:00:...|         45374|2024-09-03 09:00:...|         45954|     false|       null|     Alamo|www.expedia.com|Expedia|       null|              -1|            -1|            US|      null|        0|         POA|2024-08-26 09:40:...| 459|   0|   0|         null|            US|\n",
      "|2024-08-26 02:04:...|DataSeekersGoOrange|SIXT-EX1-US-US-P-...|            0.0|              null|        238.71|              USD|              Midsize SUV|        IFAR|   Toyota Rav4 or si...|Intermediate|     Off Road|      IFAR|             3|2024-08-31 11:00:...|         45374|2024-09-03 09:00:...|         45954|     false|       null|    Budget|www.expedia.com|Expedia|       null|              -1|            -1|            US|      null|        0|         POA|2024-08-26 09:40:...| 465|   0|   0|         null|            US|\n",
      "|2024-08-26 02:04:...|DataSeekersGoOrange|SIXT-EX1-US-US-P-...|            0.0|              null|        745.83|              USD|                 Standard|        SCAR|   Volkswagen Jetta ...|    Standard|    Limousine|      SCAR|             7|2024-08-27 11:00:...|         45374|2024-09-03 09:00:...|         45954|     false|       null|      Avis|www.expedia.com|Expedia|       null|              -1|            -1|            US|      null|        0|         POA|2024-08-26 09:40:...| 472|   0|   0|         null|            US|\n",
      "|2024-08-26 02:04:...|DataSeekersGoOrange|SIXT-EX1-US-US-P-...|            0.0|              null|        664.88|              USD|                 Fullsize|        FCAR|   Chevrolet Malibu ...|   Full Size|    Limousine|      FCAR|             7|2024-08-27 11:00:...|         45374|2024-09-03 09:00:...|         45954|     false|       null|  National|www.expedia.com|Expedia|       null|              -1|            -1|            US|      null|        0|         POA|2024-08-26 09:40:...| 478|   0|   0|         null|            US|\n",
      "|2024-08-26 02:04:...|DataSeekersGoOrange|SIXT-EX1-US-US-P-...|            0.0|              null|         597.0|              USD|                  Economy|        ECAR|     Kia Rio or similar|     Economy|    Limousine|      ECAR|             7|2024-08-27 11:00:...|         45374|2024-09-03 09:00:...|         45954|     false|       null|      Avis|www.expedia.com|Expedia|       null|              -1|            -1|            US|      null|        0|         POA|2024-08-26 09:40:...| 484|   0|   0|         null|            US|\n",
      "|2024-08-26 02:04:...|DataSeekersGoOrange|SIXT-EX1-US-US-P-...|            0.0|              null|        1396.8|              USD|              Premium SUV|        PFAR|   Chevrolet Suburba...|   Full Size|     Off Road|      GFAR|             7|2024-08-27 11:00:...|         45374|2024-09-03 09:00:...|         45954|     false|       null|      Avis|www.expedia.com|Expedia|       null|              -1|            -1|            US|      null|        0|         POA|2024-08-26 09:40:...| 490|   0|   0|         null|            US|\n",
      "|2024-08-26 02:04:...|DataSeekersGoOrange|SIXT-EX1-US-US-P-...|            0.0|              null|        599.39|              USD|                 Fullsize|        FCAR|   Chevy Malibu or s...|   Full Size|    Limousine|      FCAR|             7|2024-08-27 11:00:...|         45374|2024-09-03 09:00:...|         45954|     false|       null|Enterprise|www.expedia.com|Expedia|       null|              -1|            -1|            US|      null|        0|         POA|2024-08-26 09:40:...| 496|   0|   0|         null|            US|\n",
      "|2024-08-26 02:04:...|DataSeekersGoOrange|SIXT-EX1-US-US-P-...|            0.0|              null|        570.45|              USD|                  Economy|        ECAR|     Kia Rio or similar|     Economy|    Limousine|      ECAR|             7|2024-08-27 11:00:...|         45374|2024-09-03 09:00:...|         45954|     false|       null|      Avis|www.expedia.com|Expedia|       null|              -1|            -1|            US|      null|        0|          PP|2024-08-26 09:40:...| 502|   0|   0|         null|            US|\n",
      "|2024-08-26 02:04:...|DataSeekersGoOrange|SIXT-EX1-US-US-P-...|            0.0|              null|        540.13|              USD|                  Economy|        ECAR|     Kia Rio or similar|     Economy|    Limousine|      ECAR|             7|2024-08-27 11:00:...|         45374|2024-09-03 09:00:...|         45954|     false|       null|    Budget|www.expedia.com|Expedia|       null|              -1|            -1|            US|      null|        0|         POA|2024-08-26 09:40:...| 509|   0|   0|         null|            US|\n",
      "+--------------------+-------------------+--------------------+---------------+------------------+--------------+-----------------+-------------------------+------------+-----------------------+------------+-------------+----------+--------------+--------------------+--------------+--------------------+--------------+----------+-----------+----------+---------------+-------+-----------+----------------+--------------+--------------+----------+---------+------------+--------------------+----+----+----+-------------+--------------+\n",
      "only showing top 20 rows\n"
     ]
    }
   ],
   "execution_count": 45
  }
 ],
 "metadata": {
  "kernelspec": {
   "display_name": "Glue PySpark",
   "language": "python",
   "name": "glue_pyspark"
  },
  "language_info": {
   "codemirror_mode": {
    "name": "ipython",
    "version": 2
   },
   "file_extension": ".py",
   "mimetype": "text/x-python",
   "name": "python",
   "nbconvert_exporter": "python",
   "pygments_lexer": "ipython2",
   "version": "2.7.6"
  }
 },
 "nbformat": 4,
 "nbformat_minor": 5
}
