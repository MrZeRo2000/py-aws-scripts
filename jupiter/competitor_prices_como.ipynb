{
 "cells": [
  {
   "cell_type": "code",
   "id": "660a4ba01180e3f4",
   "metadata": {
    "ExecuteTime": {
     "end_time": "2024-08-23T14:43:30.528979Z",
     "start_time": "2024-08-23T14:43:30.096645Z"
    }
   },
   "source": [
    "import boto3\n",
    "from pyspark.sql import DataFrame\n",
    "from pyspark.sql.session import SparkSession\n",
    "from pyspark.context import SparkContext\n",
    "from pyspark.sql.utils import AnalysisException\n",
    "from awsglue.utils import getResolvedOptions\n",
    "from awsglue.context import GlueContext\n",
    "\n",
    "session = boto3.session.Session(region_name='eu-west-1')\n",
    "s3 = session.client('s3')\n",
    "glue = session.client('glue')\n",
    "spark = SparkSession.builder.config('spark.serializer','org.apache.spark.serializer.KryoSerializer').config('spark.sql.hive.convertMetastoreParquet','false').getOrCreate()\n",
    "sc = spark.sparkContext\n",
    "glueContext = GlueContext(SparkContext.getOrCreate())"
   ],
   "outputs": [
    {
     "name": "stdout",
     "output_type": "stream",
     "text": [
      "\n"
     ]
    }
   ],
   "execution_count": 3
  },
  {
   "metadata": {
    "collapsed": true,
    "ExecuteTime": {
     "end_time": "2024-08-23T14:43:37.681053Z",
     "start_time": "2024-08-23T14:43:37.266913Z"
    }
   },
   "cell_type": "code",
   "source": [
    "env        = 'dev'\n",
    "output_path = 's3://sds-dev-transform-dwh-etl/ym_fct_competitor_prices_14_day_como_full/'\n",
    "output_path_tmp = 's3://sds-dev-transform-dwh-etl/ym_fct_competitor_prices_14_day_tmp_como_full/'"
   ],
   "id": "initial_id",
   "outputs": [
    {
     "name": "stdout",
     "output_type": "stream",
     "text": [
      "\n"
     ]
    }
   ],
   "execution_count": 5
  },
  {
   "metadata": {
    "ExecuteTime": {
     "end_time": "2024-08-23T14:31:29.160824Z",
     "start_time": "2024-08-23T14:31:29.079716Z"
    }
   },
   "cell_type": "code",
   "source": [
    "\n",
    "SqlQuery = \"\"\"\n",
    "WITH base as (\n",
    " SELECT\n",
    "    rank() OVER (PARTITION BY protection, competitor, CASE WHEN substr(shop_detail,6,3) = 'GDS' THEN 'GDS' ELSE 'No GDS' END, broker, mapped_scrs, mapped_fmod, mapped_crs, length_of_rent, pickup_date_time, pickup_station, return_date_time, return_station, tariff_type, payment_type, customer_no, mapped_mileage, point_of_sales, original_vehicle_category, original_crs, original_mileage ORDER BY created_at DESC, shop_date_time DESC, (CASE WHEN (COALESCE(converted_price, 0) = 0) THEN original_price ELSE converted_price END) ASC, rand() ASC) row_num\n",
    "   , competitor\n",
    "   , broker\n",
    "   , shop_date_time\n",
    "   , shop_detail\n",
    "   , CASE WHEN substr(shop_detail,6,3) = 'GDS' THEN 'GDS' ELSE 'No GDS' END AS GDS\n",
    "   , converted_price\n",
    "   , original_price\n",
    "   , converted_currency\n",
    "   , original_currency\n",
    "   , original_vehicle_category\n",
    "   , original_crs\n",
    "   , original_sample_vehicle\n",
    "   , mapped_scrs\n",
    "   , mapped_fmod\n",
    "   , mapped_crs\n",
    "   , length_of_rent\n",
    "   , pickup_date_time\n",
    "   , pickup_station\n",
    "   , return_date_time\n",
    "   , return_station\n",
    "   , tariff_type\n",
    "   , payment_type\n",
    "   , customer_no\n",
    "   , original_mileage\n",
    "   , mapped_mileage\n",
    "   , point_of_sales\n",
    "   , rate_level\n",
    "   , sixt_plan\n",
    "   , protection\n",
    "   FROM competitorprice)\n",
    "SELECT base.protection AS YCPR_PROTECTION_FLG_STRING\n",
    "    , (CASE WHEN (base.competitor <> 'Sixt') THEN 'Competitors' WHEN (CAST(base.protection AS integer) = 1) THEN 'Inclusive' ELSE 'Exclusive' END) AS YCPR_PROTECTION_SIXT\n",
    "    , (CASE WHEN (base.competitor = 'Sixt') THEN 'Sixt' WHEN (CAST(base.protection AS integer) = 1) THEN 'Inclusive' ELSE 'Exclusive' END) AS YCPR_PROTECTION_COMPETITORS\n",
    "    , base.competitor AS YCPR_COMPETITOR\n",
    "    , base.broker AS YCPR_BROKER\n",
    "    , CAST(base.shop_date_time AS timestamp) AS YCPR_SHOP_DATM\n",
    "    , concat(date_format(CAST(base.shop_date_time AS timestamp), 'y'), '_', extract(week FROM shop_date_time)) AS YCPR_SHOP_WEEK\n",
    "    , CAST(date_format(CAST(base.shop_date_time AS timestamp), 'yMMdd') AS integer) YCPR_SHOP_DTID\n",
    "    , datediff(current_date, date(CAST(base.shop_date_time AS timestamp))) YCPR_DATE_DIFF\n",
    "    , base.shop_detail YCPR_SHOP_DETAIL\n",
    "    , base.GDS YCPR_GDS\n",
    "    , CAST((CASE WHEN (COALESCE(converted_price, 0) = 0) THEN original_price ELSE converted_price END) AS decimal(10,2)) YCPR_FINAL_PRICE\n",
    "    , (CASE WHEN (base.converted_currency IS NULL) THEN base.original_currency ELSE CAST(converted_currency AS string) END) YCPR_FINAL_CURRENCY\n",
    "    , base.original_vehicle_category YCPR_VEHICLE_CATEGORY_ORIGINAL\n",
    "    , base.original_crs YCPR_CRS_ORIGINAL\n",
    "    , base.original_sample_vehicle YCPR_SAMPLE_VEHICLE_ORIGINAL\n",
    "    , base.mapped_scrs YCPR_SCRS_MAPPED\n",
    "    , base.mapped_fmod YCPR_FMOD_MAPPED\n",
    "    , base.mapped_crs YCPR_CRS_MAPPED\n",
    "    , (CASE WHEN base.mapped_crs like '%E' THEN 'E'\n",
    "                WHEN substr(base.mapped_crs,4,1) = 'H' THEN 'H'\n",
    "                WHEN base.mapped_crs in ('CCCC', 'FCCC', 'PCCC', 'CDHC', 'SFAC', 'SPAC', 'LFAC', 'XFAC') THEN 'O'\n",
    "                WHEN substr(base.mapped_crs,4,1) = 'C' THEN 'E'\n",
    "                ELSE 'O'\n",
    "            END) AS VHCL_ELECTRIC\n",
    "   \n",
    "    , CASE WHEN vg.vhgr_type_code in ('P', 'B', 'M')  then 'C&B' when (vg.vhgr_type_code='T' and base.mapped_crs<>'P') then 'C&B' else 'V&T' end as YCPR_VEHICLE_TYPE    \n",
    "    , CAST(base.length_of_rent AS integer) YCPR_RENTAL_DAYS\n",
    "    , CAST(base.length_of_rent AS string) YCPR_RENTAL_DAYS_STRING\n",
    "    , CAST(base.pickup_date_time AS timestamp) YCPR_HANDOVER_DATM\n",
    "    , CAST(date(CAST(base.pickup_date_time AS timestamp)) AS string) YCPR_HANDOVER_DATE\n",
    "    , date_trunc('week', CAST(base.pickup_date_time AS timestamp)) YCPR_HANDOVER_WEEK_DATE\n",
    "    , concat(date_format(CAST(base.pickup_date_time AS timestamp), 'y'), '_', extract(week FROM base.pickup_date_time)) YCPR_HANDOVER_WEEK\n",
    "    , date_format(CAST(base.pickup_date_time AS timestamp), 'y_MM') YCPR_HANDOVER_MONTH\n",
    "    , date_format(CAST(base.pickup_date_time AS timestamp), 'EEEE') YCPR_HANDOVER_DAY\n",
    "    , CAST(date_format(CAST(base.pickup_date_time AS timestamp), 'yMMdd') AS integer) YCPR_HANDOVER_DTID\n",
    "    , CAST(base.return_date_time AS timestamp) YCPR_RETURN_DATM\n",
    "    , CAST(date_format(CAST(base.return_date_time AS timestamp), 'yMMdd') AS integer) YCPR_RETURN_DTID\n",
    "    , CAST(base.pickup_station AS integer) BRNC_HANDOVER_CODE\n",
    "    , concat(CAST(br.brnc_code AS string), ' ', br.brnc_name) BRNC_HANDOVER_NAME\n",
    "    , br.brnc_country_code_iso BRNC_HANDOVER_COUNTRY\n",
    "    , br.brnc_region_code BRNC_HANDOVER_REGION_CODE\n",
    "    , concat(concat(CAST(br.brnc_region_code AS string), ' '), br.brnc_region) BRNC_HANDOVER_REGION\n",
    "    , br.brnc_pool_code BRNC_HANDOVER_POOL_CODE\n",
    "    , concat(concat(CAST(br.brnc_pool_code AS string), ' '), br.brnc_pool_name) BRNC_HANDOVER_POOL\n",
    "    , CAST(base.return_station AS string) BRNC_RETURN_CODE\n",
    "    , (CASE WHEN (base.pickup_station = CAST(base.return_station AS integer)) THEN 'N' ELSE 'Y' END) BRNC_ONE_WAY\n",
    "    , base.tariff_type YCPR_TARIFF_TYPE\n",
    "    , base.payment_type YCPR_PAYMENT_TYPE\n",
    "    , base.customer_no YCPR_CUSTOMER_NUMBER\n",
    "    , CAST(base.original_mileage AS bigint) YCPR_MILEAGE_ORIGINAL\n",
    "    , CAST(base.mapped_mileage AS string) YCPR_MILEAGE_MAPPED\n",
    "    , base.point_of_sales YCPR_POSL_COUNTRY_CODE\n",
    "    , CASE WHEN (br.brnc_country_code_iso = 'MC' and base.point_of_sales='FR') THEN 'Domestic'\n",
    "        WHEN base.point_of_sales=br.brnc_country_code_iso THEN 'Domestic'\n",
    "        else 'Inbound' end as YCPR_DOMESTIC_INBOUND\n",
    "    , base.rate_level YCPR_RATE_LEVEL\n",
    "    , cast(base.sixt_plan as string) YCPR_SIXT_PLAN_STRING\n",
    "    , base.row_num YCPR_RECORD_SEQUENCE\n",
    "    , current_timestamp() as YCPR_CURRENT_TIMESTAMP\n",
    "FROM base\n",
    "LEFT JOIN branches br ON ((CAST(base.pickup_station AS integer) = br.brnc_code) AND (br.sys_deleted_flg = 0))\n",
    "LEFT JOIN vehiclegroups vg ON ((base.mapped_crs = vg.vhgr_crs) AND (vg.sys_deleted_flg = 0))\n",
    "WHERE (row_num IN (1)) AND ( case when br.brnc_country_code_iso in ('US', 'CA') then CAST(base.pickup_date_time AS timestamp) >= date_add(current_date, -1) else CAST(base.pickup_date_time AS timestamp) >= current_date end )\n",
    "\"\"\"\n"
   ],
   "id": "728d1d389125f42b",
   "outputs": [
    {
     "name": "stderr",
     "output_type": "stream",
     "text": [
      "You are already connected to a glueetl session c87d800c-6c31-404d-bf86-1d665b4f545a.\n",
      "\n",
      "No change will be made to the current session that is set as glueetl. The session configuration change will apply to newly created sessions.\n"
     ]
    },
    {
     "name": "stdout",
     "output_type": "stream",
     "text": [
      "Setting Glue version to: 4.0\n"
     ]
    }
   ],
   "execution_count": 12
  }
 ],
 "metadata": {
  "kernelspec": {
   "display_name": "Glue PySpark",
   "language": "python",
   "name": "glue_pyspark"
  },
  "language_info": {
   "codemirror_mode": {
    "name": "ipython",
    "version": 2
   },
   "file_extension": ".py",
   "mimetype": "text/x-python",
   "name": "python",
   "nbconvert_exporter": "python",
   "pygments_lexer": "ipython2",
   "version": "2.7.6"
  }
 },
 "nbformat": 4,
 "nbformat_minor": 5
}
