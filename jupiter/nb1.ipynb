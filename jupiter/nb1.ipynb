{
 "cells": [
  {
   "cell_type": "code",
   "execution_count": 1,
   "id": "initial_id",
   "metadata": {
    "collapsed": true,
    "ExecuteTime": {
     "end_time": "2024-04-01T12:49:41.997112Z",
     "start_time": "2024-04-01T12:49:41.989628Z"
    }
   },
   "outputs": [
    {
     "name": "stdout",
     "output_type": "stream",
     "text": [
      "This notebook will start the local Python kernel\n"
     ]
    }
   ],
   "source": [
    "print(\"This notebook will start the local Python kernel\")"
   ]
  },
  {
   "cell_type": "code",
   "outputs": [],
   "source": [
    "import boto3\n",
    "session = boto3.session.Session(profile_name='dev')"
   ],
   "metadata": {
    "collapsed": false,
    "ExecuteTime": {
     "end_time": "2024-04-01T12:52:32.881199Z",
     "start_time": "2024-04-01T12:52:32.866833Z"
    }
   },
   "id": "e6b2383b09811b42",
   "execution_count": 5
  },
  {
   "cell_type": "code",
   "outputs": [],
   "source": [
    "s3 = session.client('s3')"
   ],
   "metadata": {
    "collapsed": false,
    "ExecuteTime": {
     "end_time": "2024-04-01T12:52:59.692216Z",
     "start_time": "2024-04-01T12:52:59.531380Z"
    }
   },
   "id": "b78c6671ab86e8f3",
   "execution_count": 8
  },
  {
   "cell_type": "code",
   "outputs": [
    {
     "data": {
      "text/plain": "{'ResponseMetadata': {'RequestId': 'GKE7SWMWK2231ZV6',\n  'HostId': 'R7n2b/uAoCcsF07wqpz/3/8l/H1FER4LBN9CYfO04W6bGp4AsibeBB+tgtLeLTGeyqVRiTSVXt4=',\n  'HTTPStatusCode': 200,\n  'HTTPHeaders': {'x-amz-id-2': 'R7n2b/uAoCcsF07wqpz/3/8l/H1FER4LBN9CYfO04W6bGp4AsibeBB+tgtLeLTGeyqVRiTSVXt4=',\n   'x-amz-request-id': 'GKE7SWMWK2231ZV6',\n   'date': 'Mon, 01 Apr 2024 12:57:55 GMT',\n   'x-amz-bucket-region': 'eu-west-1',\n   'content-type': 'application/xml',\n   'transfer-encoding': 'chunked',\n   'server': 'AmazonS3'},\n  'RetryAttempts': 0},\n 'IsTruncated': False,\n 'Contents': [{'Key': 'fleet_shop/bf_rv_estimates/year=2024/month=02/day=12/external_providers_2024_test-1707725898298.parquet',\n   'LastModified': datetime.datetime(2024, 2, 12, 8, 19, 17, tzinfo=tzutc()),\n   'ETag': '\"489c2470134e0c4d2ccd0686bba303f5\"',\n   'Size': 17344,\n   'StorageClass': 'STANDARD'}],\n 'Name': 'sds-dev-ingest-external-sftp-files-out',\n 'Prefix': 'fleet_shop/bf_rv_estimates',\n 'MaxKeys': 1000,\n 'EncodingType': 'url',\n 'KeyCount': 1}"
     },
     "execution_count": 16,
     "metadata": {},
     "output_type": "execute_result"
    }
   ],
   "source": [
    "s3.list_objects_v2(Bucket='sds-dev-ingest-external-sftp-files-out', Prefix='fleet_shop/bf_rv_estimates')\n"
   ],
   "metadata": {
    "collapsed": false,
    "ExecuteTime": {
     "end_time": "2024-04-01T12:57:54.731773Z",
     "start_time": "2024-04-01T12:57:54.246796Z"
    }
   },
   "id": "942408e068c42ec9",
   "execution_count": 16
  }
 ],
 "metadata": {
  "kernelspec": {
   "display_name": "Python 3",
   "language": "python",
   "name": "python3"
  },
  "language_info": {
   "codemirror_mode": {
    "name": "ipython",
    "version": 2
   },
   "file_extension": ".py",
   "mimetype": "text/x-python",
   "name": "python",
   "nbconvert_exporter": "python",
   "pygments_lexer": "ipython2",
   "version": "2.7.6"
  }
 },
 "nbformat": 4,
 "nbformat_minor": 5
}
