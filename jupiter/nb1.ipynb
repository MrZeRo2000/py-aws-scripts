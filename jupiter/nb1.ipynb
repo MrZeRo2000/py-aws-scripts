{
 "cells": [
  {
   "cell_type": "code",
   "id": "initial_id",
   "metadata": {
    "collapsed": true,
    "ExecuteTime": {
     "end_time": "2024-04-19T08:34:09.145957Z",
     "start_time": "2024-04-19T08:34:09.136262Z"
    }
   },
   "source": [
    "print(\"This notebook will start the local Python kernel\")"
   ],
   "outputs": [
    {
     "name": "stdout",
     "output_type": "stream",
     "text": [
      "This notebook will start the local Python kernel\n"
     ]
    }
   ],
   "execution_count": 1
  },
  {
   "cell_type": "code",
   "source": [
    "import boto3\n",
    "s3 = boto3.client('s3')"
   ],
   "metadata": {
    "collapsed": false,
    "ExecuteTime": {
     "end_time": "2024-04-19T08:34:18.831030Z",
     "start_time": "2024-04-19T08:34:18.541773Z"
    }
   },
   "id": "e6b2383b09811b42",
   "outputs": [],
   "execution_count": 2
  },
  {
   "cell_type": "code",
   "outputs": [],
   "source": [
    "Bucket = 'sds-dev-ingestion-ingest-external-yield-management-files'\n",
    "Prefix = 'processed/yi_fct_steerings_history'"
   ],
   "metadata": {
    "collapsed": false,
    "ExecuteTime": {
     "end_time": "2024-04-03T09:32:30.752347Z",
     "start_time": "2024-04-03T09:32:30.749586Z"
    }
   },
   "id": "1777b62e2ef7542c",
   "execution_count": 7
  },
  {
   "cell_type": "code",
   "outputs": [],
   "source": [
    "paginator = s3.get_paginator('list_objects_v2')\n",
    "operation_parameters = {'Bucket': Bucket,\n",
    "                        'Prefix': Prefix}"
   ],
   "metadata": {
    "collapsed": false,
    "ExecuteTime": {
     "end_time": "2024-04-03T09:32:31.883497Z",
     "start_time": "2024-04-03T09:32:31.758731Z"
    }
   },
   "id": "b78c6671ab86e8f3",
   "execution_count": 8
  },
  {
   "cell_type": "code",
   "outputs": [
    {
     "name": "stdout",
     "output_type": "stream",
     "text": [
      "Last file: {'Key': 'processed/yi_fct_steerings_history/year=2024/month=03/day=28/steerings_history_2024032801_0.parquet-1711637962312.parquet', 'LastModified': datetime.datetime(2024, 3, 28, 14, 59, 27, tzinfo=tzutc()), 'ETag': '\"b63e6b3c51724ba98b0041f8507adda3\"', 'Size': 15331, 'StorageClass': 'STANDARD'}\n"
     ]
    }
   ],
   "source": [
    "last_files = []\n",
    "for page in paginator.paginate(**operation_parameters):\n",
    "    last_files.append(sorted(page['Contents'], key=lambda v: v['LastModified'], reverse=True)[0])    \n",
    "last_file = sorted(last_files, key=lambda v: v['LastModified'], reverse=True)[0]\n",
    "print(f\"Last file: {last_file}\")"
   ],
   "metadata": {
    "collapsed": false,
    "ExecuteTime": {
     "end_time": "2024-04-03T09:32:34.035996Z",
     "start_time": "2024-04-03T09:32:33.052432Z"
    }
   },
   "id": "942408e068c42ec9",
   "execution_count": 9
  },
  {
   "cell_type": "code",
   "outputs": [],
   "source": [
    "import pyarrow as pa\n",
    "import pyarrow.parquet as pq"
   ],
   "metadata": {
    "collapsed": false,
    "ExecuteTime": {
     "end_time": "2024-04-03T09:32:36.255383Z",
     "start_time": "2024-04-03T09:32:36.252380Z"
    }
   },
   "id": "e293f636e63da950",
   "execution_count": 10
  },
  {
   "cell_type": "code",
   "outputs": [
    {
     "name": "stdout",
     "output_type": "stream",
     "text": [
      "history_id: int64 not null\n",
      "  -- field metadata --\n",
      "  PARQUET:field_id: '0'\n",
      "id: int64 not null\n",
      "  -- field metadata --\n",
      "  PARQUET:field_id: '0'\n",
      "location_id: int32 not null\n",
      "  -- field metadata --\n",
      "  PARQUET:field_id: '0'\n",
      "location_level: int32 not null\n",
      "  -- field metadata --\n",
      "  PARQUET:field_id: '0'\n",
      "steer_type: int32 not null\n",
      "  -- field metadata --\n",
      "  PARQUET:field_id: '0'\n",
      "steer_from: string not null\n",
      "  -- field metadata --\n",
      "  PARQUET:field_id: '0'\n",
      "steer_to: string not null\n",
      "  -- field metadata --\n",
      "  PARQUET:field_id: '0'\n",
      "length_of_rent_from: int32 not null\n",
      "  -- field metadata --\n",
      "  PARQUET:field_id: '0'\n",
      "length_of_rent_to: int32 not null\n",
      "  -- field metadata --\n",
      "  PARQUET:field_id: '0'\n",
      "vehicle_type: int32 not null\n",
      "  -- field metadata --\n",
      "  PARQUET:field_id: '0'\n",
      "vehicle_group: string not null\n",
      "  -- field metadata --\n",
      "  PARQUET:field_id: '0'\n",
      "yield_type: int32 not null\n",
      "  -- field metadata --\n",
      "  PARQUET:field_id: '0'\n",
      "channel: int32 not null\n",
      "  -- field metadata --\n",
      "  PARQUET:field_id: '0'\n",
      "rent_direction: int32 not null\n",
      "  -- field metadata --\n",
      "  PARQUET:field_id: '0'\n",
      "value_type: int32 not null\n",
      "  -- field metadata --\n",
      "  PARQUET:field_id: '0'\n",
      "value: int64 not null\n",
      "  -- field metadata --\n",
      "  PARQUET:field_id: '0'\n",
      "modifier: string not null\n",
      "  -- field metadata --\n",
      "  PARQUET:field_id: '0'\n",
      "day_of_week: int32 not null\n",
      "  -- field metadata --\n",
      "  PARQUET:field_id: '0'\n",
      "rate_plan: int32 not null\n",
      "  -- field metadata --\n",
      "  PARQUET:field_id: '0'\n",
      "rate_code: string not null\n",
      "  -- field metadata --\n",
      "  PARQUET:field_id: '0'\n",
      "available: int32 not null\n",
      "  -- field metadata --\n",
      "  PARQUET:field_id: '0'\n",
      "stable: bool not null\n",
      "  -- field metadata --\n",
      "  PARQUET:field_id: '0'\n",
      "identity: string not null\n",
      "  -- field metadata --\n",
      "  PARQUET:field_id: '0'\n",
      "remark: string not null\n",
      "  -- field metadata --\n",
      "  PARQUET:field_id: '0'\n",
      "valid_from: string not null\n",
      "  -- field metadata --\n",
      "  PARQUET:field_id: '0'\n",
      "valid_to: string not null\n",
      "  -- field metadata --\n",
      "  PARQUET:field_id: '0'\n",
      "trace_id: string not null\n",
      "  -- field metadata --\n",
      "  PARQUET:field_id: '0'\n",
      "created_at: string not null\n",
      "  -- field metadata --\n",
      "  PARQUET:field_id: '0'\n",
      "deleted_at: string not null\n",
      "  -- field metadata --\n",
      "  PARQUET:field_id: '0'\n",
      "cause_id: string not null\n",
      "  -- field metadata --\n",
      "  PARQUET:field_id: '0'\n"
     ]
    }
   ],
   "source": [
    "table = pq.read_table(f\"s3://{Bucket}/{last_file['Key']}\")\n",
    "print(table.schema)"
   ],
   "metadata": {
    "collapsed": false,
    "ExecuteTime": {
     "end_time": "2024-04-03T09:33:43.845880Z",
     "start_time": "2024-04-03T09:33:43.298754Z"
    }
   },
   "id": "c48e1fd1519b0f99",
   "execution_count": 13
  },
  {
   "metadata": {},
   "cell_type": "code",
   "outputs": [],
   "execution_count": null,
   "source": [
    "glue = boto3.client('glue')\n",
    "paginator = glue.get_paginator('get_job_runs')"
   ],
   "id": "5f7bd412dab44cfc"
  }
 ],
 "metadata": {
  "kernelspec": {
   "display_name": "Python 3",
   "language": "python",
   "name": "python3"
  },
  "language_info": {
   "codemirror_mode": {
    "name": "ipython",
    "version": 2
   },
   "file_extension": ".py",
   "mimetype": "text/x-python",
   "name": "python",
   "nbconvert_exporter": "python",
   "pygments_lexer": "ipython2",
   "version": "2.7.6"
  }
 },
 "nbformat": 4,
 "nbformat_minor": 5
}
